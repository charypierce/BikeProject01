{
  "nbformat": 4,
  "nbformat_minor": 0,
  "metadata": {
    "colab": {
      "provenance": [],
      "collapsed_sections": []
    },
    "kernelspec": {
      "name": "python3",
      "display_name": "Python 3"
    },
    "language_info": {
      "name": "python"
    }
  },
  "cells": [
    {
      "cell_type": "markdown",
      "source": [
        "Análisis"
      ],
      "metadata": {
        "id": "iqasq97CnVbW"
      }
    },
    {
      "cell_type": "code",
      "source": [
        "from google.colab import drive    #Montamos la unidad de Drive a este notebook para acceder a los archivos\n",
        "drive.mount(\"/content/gdrive\")"
      ],
      "metadata": {
        "colab": {
          "base_uri": "https://localhost:8080/"
        },
        "id": "6G9ygFzGkx44",
        "outputId": "6b9fae98-e6c4-4892-eafc-1b569890502e"
      },
      "execution_count": 1,
      "outputs": [
        {
          "output_type": "stream",
          "name": "stdout",
          "text": [
            "Mounted at /content/gdrive\n"
          ]
        }
      ]
    },
    {
      "cell_type": "code",
      "source": [
        "ruta=\"/content/gdrive/MyDrive/Portafolio_Drive_Analisis_Google/\"#Ruta de Carpetas con Archivos ZIPel canciller es popular en redes sociales, también su hija, conocida como Francesca Stafford.\n",
        "#/content/gdrive/MyDrive/Portafolio_Drive_Analisis_Google/unzip"
      ],
      "metadata": {
        "id": "BeanmgF9k1ki"
      },
      "execution_count": 2,
      "outputs": []
    },
    {
      "cell_type": "code",
      "source": [
        "import pandas as pd\n",
        "import numpy as np"
      ],
      "metadata": {
        "id": "wGeHrN47k_pY"
      },
      "execution_count": 3,
      "outputs": []
    },
    {
      "cell_type": "code",
      "source": [
        "a=ruta+'unzip/byke_clean.csv'"
      ],
      "metadata": {
        "id": "hkyy7yQkluQn"
      },
      "execution_count": 4,
      "outputs": []
    },
    {
      "cell_type": "code",
      "execution_count": 5,
      "metadata": {
        "id": "9KqfBPPiknTk"
      },
      "outputs": [],
      "source": [
        "ds=pd.read_csv(a)"
      ]
    },
    {
      "cell_type": "code",
      "source": [
        "ds.drop(ds.columns[0],axis=1,inplace=True)"
      ],
      "metadata": {
        "id": "TiJA6cbZnJgk"
      },
      "execution_count": 6,
      "outputs": []
    },
    {
      "cell_type": "code",
      "source": [
        "ds['diff_time'] = pd.to_datetime(ds.ended_at) - pd.to_datetime(ds.started_at) "
      ],
      "metadata": {
        "id": "jRUGV0hbAH7O"
      },
      "execution_count": 7,
      "outputs": []
    },
    {
      "cell_type": "code",
      "source": [
        "ds=ds[ds.diff_time>=pd.Timedelta(minutes = 1)]"
      ],
      "metadata": {
        "id": "uFVxJnM-nSAR"
      },
      "execution_count": 8,
      "outputs": []
    },
    {
      "cell_type": "code",
      "source": [
        "ds.drop('date',axis=1,inplace=True)"
      ],
      "metadata": {
        "id": "hwGigpcpMAPG"
      },
      "execution_count": 9,
      "outputs": []
    },
    {
      "cell_type": "code",
      "source": [
        "ds.drop('level_0',axis=1,inplace=True)"
      ],
      "metadata": {
        "id": "6Tp52wpI5Wk6"
      },
      "execution_count": 10,
      "outputs": []
    },
    {
      "cell_type": "code",
      "source": [
        "ds.reset_index(inplace=True)"
      ],
      "metadata": {
        "id": "t1Sj1K4LepxO"
      },
      "execution_count": 11,
      "outputs": []
    },
    {
      "cell_type": "code",
      "source": [
        "ds.drop('level_0',axis=1,inplace=True)"
      ],
      "metadata": {
        "id": "5HiExrel5nii"
      },
      "execution_count": 12,
      "outputs": []
    },
    {
      "cell_type": "code",
      "source": [
        "ds.drop('index',axis=1,inplace=True)"
      ],
      "metadata": {
        "id": "2rj3a4_DfbUD"
      },
      "execution_count": 13,
      "outputs": []
    },
    {
      "cell_type": "code",
      "source": [
        "ds.started_at = pd.to_datetime(ds.started_at)\n",
        "ds.ended_at   = pd.to_datetime(ds.ended_at)"
      ],
      "metadata": {
        "id": "HhacYnn4dS3_"
      },
      "execution_count": 14,
      "outputs": []
    },
    {
      "cell_type": "code",
      "source": [
        "ds['hour']=ds.started_at.apply(lambda x: x.hour)"
      ],
      "metadata": {
        "id": "tkRM8QPogid1"
      },
      "execution_count": 15,
      "outputs": []
    },
    {
      "cell_type": "code",
      "source": [
        "ds['day']=ds.started_at.apply(lambda x: x.date().weekday())"
      ],
      "metadata": {
        "id": "Qe7-3E7-fZ16"
      },
      "execution_count": 16,
      "outputs": []
    },
    {
      "cell_type": "code",
      "source": [
        "ds['month']=ds.started_at.apply(lambda x: x.month)"
      ],
      "metadata": {
        "id": "e5jyQZe8hhxu"
      },
      "execution_count": 17,
      "outputs": []
    },
    {
      "cell_type": "code",
      "source": [
        "ds['day_of_month']=ds.started_at.apply(lambda x: x.date().day)"
      ],
      "metadata": {
        "id": "zb7qFeYOghia"
      },
      "execution_count": 18,
      "outputs": []
    },
    {
      "cell_type": "code",
      "source": [
        "ds['id']=range(ds.shape[0])"
      ],
      "metadata": {
        "id": "XkPbGXbPWhJf"
      },
      "execution_count": 19,
      "outputs": []
    },
    {
      "cell_type": "code",
      "source": [
        "colim=['rideable_type','start_station_name','start_station_id','end_station_name','end_station_id',\\\n",
        "    'member_casual','month','hour','diff_time','day']\n",
        "\n",
        "ds[colim].head(4)"
      ],
      "metadata": {
        "colab": {
          "base_uri": "https://localhost:8080/",
          "height": 175
        },
        "id": "H3A5xm7_iRl2",
        "outputId": "08a1466e-d761-4b13-8a2d-a963037a357b"
      },
      "execution_count": 20,
      "outputs": [
        {
          "output_type": "execute_result",
          "data": {
            "text/plain": [
              "  rideable_type         start_station_name start_station_id  \\\n",
              "0  classic_bike        Orleans St & Elm St     TA1306000006   \n",
              "1  classic_bike  Desplaines St & Kinzie St     TA1306000003   \n",
              "2  classic_bike        Clark St & Grace St     TA1307000127   \n",
              "3  classic_bike   Kingsbury St & Kinzie St     KA1503000043   \n",
              "\n",
              "            end_station_name end_station_id member_casual  month  hour  \\\n",
              "0        Orleans St & Elm St   TA1306000006        member      6     7   \n",
              "1   Kingsbury St & Kinzie St   KA1503000043        member      6     8   \n",
              "2      Clark St & Leland Ave   TA1309000014        member      6    12   \n",
              "3  Desplaines St & Kinzie St   TA1306000003        member      6    12   \n",
              "\n",
              "        diff_time  day  \n",
              "0 0 days 00:16:16    4  \n",
              "1 0 days 00:02:01    2  \n",
              "2 0 days 00:07:47    6  \n",
              "3 0 days 00:02:38    1  "
            ],
            "text/html": [
              "\n",
              "  <div id=\"df-428915ae-ff68-421c-9963-b9bdee184e09\">\n",
              "    <div class=\"colab-df-container\">\n",
              "      <div>\n",
              "<style scoped>\n",
              "    .dataframe tbody tr th:only-of-type {\n",
              "        vertical-align: middle;\n",
              "    }\n",
              "\n",
              "    .dataframe tbody tr th {\n",
              "        vertical-align: top;\n",
              "    }\n",
              "\n",
              "    .dataframe thead th {\n",
              "        text-align: right;\n",
              "    }\n",
              "</style>\n",
              "<table border=\"1\" class=\"dataframe\">\n",
              "  <thead>\n",
              "    <tr style=\"text-align: right;\">\n",
              "      <th></th>\n",
              "      <th>rideable_type</th>\n",
              "      <th>start_station_name</th>\n",
              "      <th>start_station_id</th>\n",
              "      <th>end_station_name</th>\n",
              "      <th>end_station_id</th>\n",
              "      <th>member_casual</th>\n",
              "      <th>month</th>\n",
              "      <th>hour</th>\n",
              "      <th>diff_time</th>\n",
              "      <th>day</th>\n",
              "    </tr>\n",
              "  </thead>\n",
              "  <tbody>\n",
              "    <tr>\n",
              "      <th>0</th>\n",
              "      <td>classic_bike</td>\n",
              "      <td>Orleans St &amp; Elm St</td>\n",
              "      <td>TA1306000006</td>\n",
              "      <td>Orleans St &amp; Elm St</td>\n",
              "      <td>TA1306000006</td>\n",
              "      <td>member</td>\n",
              "      <td>6</td>\n",
              "      <td>7</td>\n",
              "      <td>0 days 00:16:16</td>\n",
              "      <td>4</td>\n",
              "    </tr>\n",
              "    <tr>\n",
              "      <th>1</th>\n",
              "      <td>classic_bike</td>\n",
              "      <td>Desplaines St &amp; Kinzie St</td>\n",
              "      <td>TA1306000003</td>\n",
              "      <td>Kingsbury St &amp; Kinzie St</td>\n",
              "      <td>KA1503000043</td>\n",
              "      <td>member</td>\n",
              "      <td>6</td>\n",
              "      <td>8</td>\n",
              "      <td>0 days 00:02:01</td>\n",
              "      <td>2</td>\n",
              "    </tr>\n",
              "    <tr>\n",
              "      <th>2</th>\n",
              "      <td>classic_bike</td>\n",
              "      <td>Clark St &amp; Grace St</td>\n",
              "      <td>TA1307000127</td>\n",
              "      <td>Clark St &amp; Leland Ave</td>\n",
              "      <td>TA1309000014</td>\n",
              "      <td>member</td>\n",
              "      <td>6</td>\n",
              "      <td>12</td>\n",
              "      <td>0 days 00:07:47</td>\n",
              "      <td>6</td>\n",
              "    </tr>\n",
              "    <tr>\n",
              "      <th>3</th>\n",
              "      <td>classic_bike</td>\n",
              "      <td>Kingsbury St &amp; Kinzie St</td>\n",
              "      <td>KA1503000043</td>\n",
              "      <td>Desplaines St &amp; Kinzie St</td>\n",
              "      <td>TA1306000003</td>\n",
              "      <td>member</td>\n",
              "      <td>6</td>\n",
              "      <td>12</td>\n",
              "      <td>0 days 00:02:38</td>\n",
              "      <td>1</td>\n",
              "    </tr>\n",
              "  </tbody>\n",
              "</table>\n",
              "</div>\n",
              "      <button class=\"colab-df-convert\" onclick=\"convertToInteractive('df-428915ae-ff68-421c-9963-b9bdee184e09')\"\n",
              "              title=\"Convert this dataframe to an interactive table.\"\n",
              "              style=\"display:none;\">\n",
              "        \n",
              "  <svg xmlns=\"http://www.w3.org/2000/svg\" height=\"24px\"viewBox=\"0 0 24 24\"\n",
              "       width=\"24px\">\n",
              "    <path d=\"M0 0h24v24H0V0z\" fill=\"none\"/>\n",
              "    <path d=\"M18.56 5.44l.94 2.06.94-2.06 2.06-.94-2.06-.94-.94-2.06-.94 2.06-2.06.94zm-11 1L8.5 8.5l.94-2.06 2.06-.94-2.06-.94L8.5 2.5l-.94 2.06-2.06.94zm10 10l.94 2.06.94-2.06 2.06-.94-2.06-.94-.94-2.06-.94 2.06-2.06.94z\"/><path d=\"M17.41 7.96l-1.37-1.37c-.4-.4-.92-.59-1.43-.59-.52 0-1.04.2-1.43.59L10.3 9.45l-7.72 7.72c-.78.78-.78 2.05 0 2.83L4 21.41c.39.39.9.59 1.41.59.51 0 1.02-.2 1.41-.59l7.78-7.78 2.81-2.81c.8-.78.8-2.07 0-2.86zM5.41 20L4 18.59l7.72-7.72 1.47 1.35L5.41 20z\"/>\n",
              "  </svg>\n",
              "      </button>\n",
              "      \n",
              "  <style>\n",
              "    .colab-df-container {\n",
              "      display:flex;\n",
              "      flex-wrap:wrap;\n",
              "      gap: 12px;\n",
              "    }\n",
              "\n",
              "    .colab-df-convert {\n",
              "      background-color: #E8F0FE;\n",
              "      border: none;\n",
              "      border-radius: 50%;\n",
              "      cursor: pointer;\n",
              "      display: none;\n",
              "      fill: #1967D2;\n",
              "      height: 32px;\n",
              "      padding: 0 0 0 0;\n",
              "      width: 32px;\n",
              "    }\n",
              "\n",
              "    .colab-df-convert:hover {\n",
              "      background-color: #E2EBFA;\n",
              "      box-shadow: 0px 1px 2px rgba(60, 64, 67, 0.3), 0px 1px 3px 1px rgba(60, 64, 67, 0.15);\n",
              "      fill: #174EA6;\n",
              "    }\n",
              "\n",
              "    [theme=dark] .colab-df-convert {\n",
              "      background-color: #3B4455;\n",
              "      fill: #D2E3FC;\n",
              "    }\n",
              "\n",
              "    [theme=dark] .colab-df-convert:hover {\n",
              "      background-color: #434B5C;\n",
              "      box-shadow: 0px 1px 3px 1px rgba(0, 0, 0, 0.15);\n",
              "      filter: drop-shadow(0px 1px 2px rgba(0, 0, 0, 0.3));\n",
              "      fill: #FFFFFF;\n",
              "    }\n",
              "  </style>\n",
              "\n",
              "      <script>\n",
              "        const buttonEl =\n",
              "          document.querySelector('#df-428915ae-ff68-421c-9963-b9bdee184e09 button.colab-df-convert');\n",
              "        buttonEl.style.display =\n",
              "          google.colab.kernel.accessAllowed ? 'block' : 'none';\n",
              "\n",
              "        async function convertToInteractive(key) {\n",
              "          const element = document.querySelector('#df-428915ae-ff68-421c-9963-b9bdee184e09');\n",
              "          const dataTable =\n",
              "            await google.colab.kernel.invokeFunction('convertToInteractive',\n",
              "                                                     [key], {});\n",
              "          if (!dataTable) return;\n",
              "\n",
              "          const docLinkHtml = 'Like what you see? Visit the ' +\n",
              "            '<a target=\"_blank\" href=https://colab.research.google.com/notebooks/data_table.ipynb>data table notebook</a>'\n",
              "            + ' to learn more about interactive tables.';\n",
              "          element.innerHTML = '';\n",
              "          dataTable['output_type'] = 'display_data';\n",
              "          await google.colab.output.renderOutput(dataTable, element);\n",
              "          const docLink = document.createElement('div');\n",
              "          docLink.innerHTML = docLinkHtml;\n",
              "          element.appendChild(docLink);\n",
              "        }\n",
              "      </script>\n",
              "    </div>\n",
              "  </div>\n",
              "  "
            ]
          },
          "metadata": {},
          "execution_count": 20
        }
      ]
    },
    {
      "cell_type": "markdown",
      "source": [
        "Pivot Tables"
      ],
      "metadata": {
        "id": "sTav2-IIiSdN"
      }
    },
    {
      "cell_type": "code",
      "source": [
        "#                       4667226\n",
        "stadis=pd.pivot_table(ds.iloc[:4667226,:],values='rideable_type',index=['member_casual',],\\\n",
        "               columns=['hour'],aggfunc='count')"
      ],
      "metadata": {
        "id": "dragKyTMnoaB"
      },
      "execution_count": 21,
      "outputs": []
    },
    {
      "cell_type": "code",
      "source": [
        "x=stadis.iloc[:,:].columns\n",
        "y=stadis.iloc[:,:].values"
      ],
      "metadata": {
        "id": "HsXisdWTsCcv"
      },
      "execution_count": 22,
      "outputs": []
    },
    {
      "cell_type": "code",
      "source": [
        "import matplotlib.pyplot as plt"
      ],
      "metadata": {
        "id": "JWx_EBrnpVVP"
      },
      "execution_count": 23,
      "outputs": []
    },
    {
      "cell_type": "code",
      "source": [
        "plt.bar(x,y[0])#casual\n",
        "plt.title('Casual')"
      ],
      "metadata": {
        "colab": {
          "base_uri": "https://localhost:8080/",
          "height": 298
        },
        "id": "f4XUTYWXsf4A",
        "outputId": "b1e196e9-0f12-47da-a68d-5784c901d106"
      },
      "execution_count": 24,
      "outputs": [
        {
          "output_type": "execute_result",
          "data": {
            "text/plain": [
              "Text(0.5, 1.0, 'Casual')"
            ]
          },
          "metadata": {},
          "execution_count": 24
        },
        {
          "output_type": "display_data",
          "data": {
            "text/plain": [
              "<Figure size 432x288 with 1 Axes>"
            ],
            "image/png": "[encoded data removed]"
          },
          "metadata": {
            "needs_background": "light"
          }
        }
      ]
    },
    {
      "cell_type": "code",
      "source": [
        "plt.bar(x,y[1])\n",
        "plt.title('Member')"
      ],
      "metadata": {
        "colab": {
          "base_uri": "https://localhost:8080/",
          "height": 298
        },
        "id": "DOXWc83vtAyE",
        "outputId": "2ee08cca-d48e-4569-ec8f-6dbc62706934"
      },
      "execution_count": 25,
      "outputs": [
        {
          "output_type": "execute_result",
          "data": {
            "text/plain": [
              "Text(0.5, 1.0, 'Member')"
            ]
          },
          "metadata": {},
          "execution_count": 25
        },
        {
          "output_type": "display_data",
          "data": {
            "text/plain": [
              "<Figure size 432x288 with 1 Axes>"
            ],
            "image/png": "[encoded data removed]"
          },
          "metadata": {
            "needs_background": "light"
          }
        }
      ]
    },
    {
      "cell_type": "code",
      "source": [
        "#table = pd.pivot_table(df, values='D', index=['A', 'B'],\n",
        "#                    columns=['C'], aggfunc=np.sum)"
      ],
      "metadata": {
        "id": "kXvQFYMeop19"
      },
      "execution_count": 26,
      "outputs": []
    },
    {
      "cell_type": "code",
      "source": [
        "stadis1=pd.pivot_table(ds.iloc[:4667226,:],values='rideable_type',index=['member_casual',],\\\n",
        "               columns=['day'],aggfunc='count')"
      ],
      "metadata": {
        "id": "EwVu3Yk6t0a9"
      },
      "execution_count": 27,
      "outputs": []
    },
    {
      "cell_type": "code",
      "source": [
        "x1=stadis1.iloc[:,:].columns\n",
        "y1=stadis1.iloc[:,:].values"
      ],
      "metadata": {
        "id": "Pe584AXMt8kt"
      },
      "execution_count": 28,
      "outputs": []
    },
    {
      "cell_type": "code",
      "source": [
        "plt.bar(x1,y1[0])#casual\n",
        "plt.title('Casual')"
      ],
      "metadata": {
        "colab": {
          "base_uri": "https://localhost:8080/",
          "height": 298
        },
        "id": "GI-pKcQUuA_b",
        "outputId": "57916cc8-56cf-4853-9334-cf189a32675f"
      },
      "execution_count": 29,
      "outputs": [
        {
          "output_type": "execute_result",
          "data": {
            "text/plain": [
              "Text(0.5, 1.0, 'Casual')"
            ]
          },
          "metadata": {},
          "execution_count": 29
        },
        {
          "output_type": "display_data",
          "data": {
            "text/plain": [
              "<Figure size 432x288 with 1 Axes>"
            ],
            "image/png": "[encoded data removed]"
          },
          "metadata": {
            "needs_background": "light"
          }
        }
      ]
    },
    {
      "cell_type": "code",
      "source": [
        "plt.bar(x1,y1[1])#casual\n",
        "plt.title('Member')"
      ],
      "metadata": {
        "colab": {
          "base_uri": "https://localhost:8080/",
          "height": 298
        },
        "id": "0sA_sIJBt8oG",
        "outputId": "62c743e4-8694-4b85-cfa7-f220517f2fb5"
      },
      "execution_count": 30,
      "outputs": [
        {
          "output_type": "execute_result",
          "data": {
            "text/plain": [
              "Text(0.5, 1.0, 'Member')"
            ]
          },
          "metadata": {},
          "execution_count": 30
        },
        {
          "output_type": "display_data",
          "data": {
            "text/plain": [
              "<Figure size 432x288 with 1 Axes>"
            ],
            "image/png": "[encoded data removed]"
          },
          "metadata": {
            "needs_background": "light"
          }
        }
      ]
    },
    {
      "cell_type": "code",
      "source": [
        "stadis3=pd.pivot_table(ds.iloc[:4667226,:],values='rideable_type',index=['member_casual',],\\\n",
        "               columns=['month'],aggfunc='count')"
      ],
      "metadata": {
        "id": "RQneIPOyunIk"
      },
      "execution_count": 31,
      "outputs": []
    },
    {
      "cell_type": "code",
      "source": [
        "stadis3"
      ],
      "metadata": {
        "colab": {
          "base_uri": "https://localhost:8080/",
          "height": 143
        },
        "id": "L_BL_xqBur1Z",
        "outputId": "fd87c290-6982-4bb6-a49d-ff2fe39d357c"
      },
      "execution_count": 32,
      "outputs": [
        {
          "output_type": "execute_result",
          "data": {
            "text/plain": [
              "month             1      2       3       4       5       6       7       8   \\\n",
              "member_casual                                                                 \n",
              "casual         12481  14973   66409   90816  216938  330137  365513  338138   \n",
              "member         66575  72683  146497  177723  277162  334484  317690  327946   \n",
              "\n",
              "month              9       10      11      12  \n",
              "member_casual                                  \n",
              "casual         290079  187324   69287   44684  \n",
              "member         323287  284140  182939  129321  "
            ],
            "text/html": [
              "\n",
              "  <div id=\"df-1f4fe127-9532-4c5a-a06e-27cfc24414bb\">\n",
              "    <div class=\"colab-df-container\">\n",
              "      <div>\n",
              "<style scoped>\n",
              "    .dataframe tbody tr th:only-of-type {\n",
              "        vertical-align: middle;\n",
              "    }\n",
              "\n",
              "    .dataframe tbody tr th {\n",
              "        vertical-align: top;\n",
              "    }\n",
              "\n",
              "    .dataframe thead th {\n",
              "        text-align: right;\n",
              "    }\n",
              "</style>\n",
              "<table border=\"1\" class=\"dataframe\">\n",
              "  <thead>\n",
              "    <tr style=\"text-align: right;\">\n",
              "      <th>month</th>\n",
              "      <th>1</th>\n",
              "      <th>2</th>\n",
              "      <th>3</th>\n",
              "      <th>4</th>\n",
              "      <th>5</th>\n",
              "      <th>6</th>\n",
              "      <th>7</th>\n",
              "      <th>8</th>\n",
              "      <th>9</th>\n",
              "      <th>10</th>\n",
              "      <th>11</th>\n",
              "      <th>12</th>\n",
              "    </tr>\n",
              "    <tr>\n",
              "      <th>member_casual</th>\n",
              "      <th></th>\n",
              "      <th></th>\n",
              "      <th></th>\n",
              "      <th></th>\n",
              "      <th></th>\n",
              "      <th></th>\n",
              "      <th></th>\n",
              "      <th></th>\n",
              "      <th></th>\n",
              "      <th></th>\n",
              "      <th></th>\n",
              "      <th></th>\n",
              "    </tr>\n",
              "  </thead>\n",
              "  <tbody>\n",
              "    <tr>\n",
              "      <th>casual</th>\n",
              "      <td>12481</td>\n",
              "      <td>14973</td>\n",
              "      <td>66409</td>\n",
              "      <td>90816</td>\n",
              "      <td>216938</td>\n",
              "      <td>330137</td>\n",
              "      <td>365513</td>\n",
              "      <td>338138</td>\n",
              "      <td>290079</td>\n",
              "      <td>187324</td>\n",
              "      <td>69287</td>\n",
              "      <td>44684</td>\n",
              "    </tr>\n",
              "    <tr>\n",
              "      <th>member</th>\n",
              "      <td>66575</td>\n",
              "      <td>72683</td>\n",
              "      <td>146497</td>\n",
              "      <td>177723</td>\n",
              "      <td>277162</td>\n",
              "      <td>334484</td>\n",
              "      <td>317690</td>\n",
              "      <td>327946</td>\n",
              "      <td>323287</td>\n",
              "      <td>284140</td>\n",
              "      <td>182939</td>\n",
              "      <td>129321</td>\n",
              "    </tr>\n",
              "  </tbody>\n",
              "</table>\n",
              "</div>\n",
              "      <button class=\"colab-df-convert\" onclick=\"convertToInteractive('df-1f4fe127-9532-4c5a-a06e-27cfc24414bb')\"\n",
              "              title=\"Convert this dataframe to an interactive table.\"\n",
              "              style=\"display:none;\">\n",
              "        \n",
              "  <svg xmlns=\"http://www.w3.org/2000/svg\" height=\"24px\"viewBox=\"0 0 24 24\"\n",
              "       width=\"24px\">\n",
              "    <path d=\"M0 0h24v24H0V0z\" fill=\"none\"/>\n",
              "    <path d=\"M18.56 5.44l.94 2.06.94-2.06 2.06-.94-2.06-.94-.94-2.06-.94 2.06-2.06.94zm-11 1L8.5 8.5l.94-2.06 2.06-.94-2.06-.94L8.5 2.5l-.94 2.06-2.06.94zm10 10l.94 2.06.94-2.06 2.06-.94-2.06-.94-.94-2.06-.94 2.06-2.06.94z\"/><path d=\"M17.41 7.96l-1.37-1.37c-.4-.4-.92-.59-1.43-.59-.52 0-1.04.2-1.43.59L10.3 9.45l-7.72 7.72c-.78.78-.78 2.05 0 2.83L4 21.41c.39.39.9.59 1.41.59.51 0 1.02-.2 1.41-.59l7.78-7.78 2.81-2.81c.8-.78.8-2.07 0-2.86zM5.41 20L4 18.59l7.72-7.72 1.47 1.35L5.41 20z\"/>\n",
              "  </svg>\n",
              "      </button>\n",
              "      \n",
              "  <style>\n",
              "    .colab-df-container {\n",
              "      display:flex;\n",
              "      flex-wrap:wrap;\n",
              "      gap: 12px;\n",
              "    }\n",
              "\n",
              "    .colab-df-convert {\n",
              "      background-color: #E8F0FE;\n",
              "      border: none;\n",
              "      border-radius: 50%;\n",
              "      cursor: pointer;\n",
              "      display: none;\n",
              "      fill: #1967D2;\n",
              "      height: 32px;\n",
              "      padding: 0 0 0 0;\n",
              "      width: 32px;\n",
              "    }\n",
              "\n",
              "    .colab-df-convert:hover {\n",
              "      background-color: #E2EBFA;\n",
              "      box-shadow: 0px 1px 2px rgba(60, 64, 67, 0.3), 0px 1px 3px 1px rgba(60, 64, 67, 0.15);\n",
              "      fill: #174EA6;\n",
              "    }\n",
              "\n",
              "    [theme=dark] .colab-df-convert {\n",
              "      background-color: #3B4455;\n",
              "      fill: #D2E3FC;\n",
              "    }\n",
              "\n",
              "    [theme=dark] .colab-df-convert:hover {\n",
              "      background-color: #434B5C;\n",
              "      box-shadow: 0px 1px 3px 1px rgba(0, 0, 0, 0.15);\n",
              "      filter: drop-shadow(0px 1px 2px rgba(0, 0, 0, 0.3));\n",
              "      fill: #FFFFFF;\n",
              "    }\n",
              "  </style>\n",
              "\n",
              "      <script>\n",
              "        const buttonEl =\n",
              "          document.querySelector('#df-1f4fe127-9532-4c5a-a06e-27cfc24414bb button.colab-df-convert');\n",
              "        buttonEl.style.display =\n",
              "          google.colab.kernel.accessAllowed ? 'block' : 'none';\n",
              "\n",
              "        async function convertToInteractive(key) {\n",
              "          const element = document.querySelector('#df-1f4fe127-9532-4c5a-a06e-27cfc24414bb');\n",
              "          const dataTable =\n",
              "            await google.colab.kernel.invokeFunction('convertToInteractive',\n",
              "                                                     [key], {});\n",
              "          if (!dataTable) return;\n",
              "\n",
              "          const docLinkHtml = 'Like what you see? Visit the ' +\n",
              "            '<a target=\"_blank\" href=https://colab.research.google.com/notebooks/data_table.ipynb>data table notebook</a>'\n",
              "            + ' to learn more about interactive tables.';\n",
              "          element.innerHTML = '';\n",
              "          dataTable['output_type'] = 'display_data';\n",
              "          await google.colab.output.renderOutput(dataTable, element);\n",
              "          const docLink = document.createElement('div');\n",
              "          docLink.innerHTML = docLinkHtml;\n",
              "          element.appendChild(docLink);\n",
              "        }\n",
              "      </script>\n",
              "    </div>\n",
              "  </div>\n",
              "  "
            ]
          },
          "metadata": {},
          "execution_count": 32
        }
      ]
    },
    {
      "cell_type": "code",
      "source": [
        "x3=stadis3.columns.values\n",
        "y3=stadis3.values"
      ],
      "metadata": {
        "id": "inPXmT5GutEl"
      },
      "execution_count": 33,
      "outputs": []
    },
    {
      "cell_type": "code",
      "source": [
        "plt.bar(x3,y3[0])\n",
        "plt.title('casual')"
      ],
      "metadata": {
        "colab": {
          "base_uri": "https://localhost:8080/",
          "height": 298
        },
        "id": "ZkuSBtIYu6go",
        "outputId": "e6875eeb-1cf2-4848-96d5-929dbc48d4e8"
      },
      "execution_count": 34,
      "outputs": [
        {
          "output_type": "execute_result",
          "data": {
            "text/plain": [
              "Text(0.5, 1.0, 'casual')"
            ]
          },
          "metadata": {},
          "execution_count": 34
        },
        {
          "output_type": "display_data",
          "data": {
            "text/plain": [
              "<Figure size 432x288 with 1 Axes>"
            ],
            "image/png": "[encoded data removed]"
          },
          "metadata": {
            "needs_background": "light"
          }
        }
      ]
    },
    {
      "cell_type": "code",
      "source": [
        "plt.bar(x3,y3[1])\n",
        "plt.title('member')"
      ],
      "metadata": {
        "colab": {
          "base_uri": "https://localhost:8080/",
          "height": 298
        },
        "id": "Cv6L2obtvHhc",
        "outputId": "863345e9-1008-47b7-9bfb-381746656f28"
      },
      "execution_count": 35,
      "outputs": [
        {
          "output_type": "execute_result",
          "data": {
            "text/plain": [
              "Text(0.5, 1.0, 'member')"
            ]
          },
          "metadata": {},
          "execution_count": 35
        },
        {
          "output_type": "display_data",
          "data": {
            "text/plain": [
              "<Figure size 432x288 with 1 Axes>"
            ],
            "image/png": "[encoded data removed]"
          },
          "metadata": {
            "needs_background": "light"
          }
        }
      ]
    },
    {
      "cell_type": "code",
      "source": [
        "# 21 Marzo      21 Junio\n",
        "# 21 Junio      23 Septiembre\n",
        "# 23 Septiembre 21 Diciembre\n",
        "# 21 Diciembre  21 Marzo"
      ],
      "metadata": {
        "id": "xbP45dfPvaQb"
      },
      "execution_count": 36,
      "outputs": []
    },
    {
      "cell_type": "code",
      "source": [
        "#pd.timedelta_range('2021-06-01',)\n",
        "\n",
        "# pd.to_datetime('2022-03-21'),pd.to_datetime('2022-06-21')#Primavera\n",
        "# pd.to_datetime('2021-06-21'),pd.to_datetime('2021-09-23')#Verano\n",
        "# pd.to_datetime('2021-09-23'),pd.to_datetime('2021-12-21')#Otoño\n",
        "# pd.to_datetime('2021-12-21'),pd.to_datetime('2022-03-21')#Invierno"
      ],
      "metadata": {
        "id": "aV-WpahgwCze"
      },
      "execution_count": 37,
      "outputs": []
    },
    {
      "cell_type": "code",
      "source": [
        "#Analizar tendencias, de que lugares a q lugares son los más concurrido o hay más demanda ?\n",
        "#¿Adónde van los ciclistas de Divvy Bikeshare? ¿Cuándo cabalgan? ¿Qué tan lejos van? \n",
        "#¿Qué estaciones son las más populares? ¿En qué días de la semana se realizan la mayoría de los viajes?\n",
        "#Agrega información meteorologica de cada día, luego cuenta el No de rodadas segun la temperatura, es relevante ?\n",
        "#Demanda por hora, cuantos viajes se hacen en cada hora por las 10 estaciones más concurridas.\n",
        "\n",
        "#Vemos cual estacion tiene más salidas, Vemos cual estacion tiene mas llegadas\n",
        "#Vemos cual estacion tiene menos salidas, Vemos cual estacion tiene menos llegadas\n",
        "\n",
        "#De la que tenga más salidas contamos cuantas salidas hay por hora, y cuantas llegadas tiene.\n",
        "#Esto con el fin de mantener siempre disponibilidad en bicis.\n",
        "\n",
        "#Si una estacion tiene 10 salidas y 1 llegada, va a hacer falta 9 bicis si la demanda sigue igual\n",
        "#Si una estacion tiene 10 llegadas y 1 salida, entonces sobran 9 bicis que no se estan usando.\n",
        "#salidas=polinomial\n",
        "#excedente = Nodebicis - salidas(hora) + llegadas(hora)\n",
        "#Quieres que el excedente sea cero, entonces Nodebicis=Salidas(hora)-llegadas(hora)\n",
        "#Puedes calcular cuantas bicis necesitas tener para cada hora\n",
        "\n",
        "\n",
        "#Para esto puedes calcular la media de cada hora de todos los lunes de un determinado mes, o conjunto de meses, temporada,\n",
        "#Para esto sugiero dividir los datos en cuartiles, pero donde se acomoda la misma cantidad de datos en cada region\n",
        "#Dividir en cuartiles significa ordenar de menor a mayor por fechas y agrupar en la misma cantidad de datos, es decir en\n",
        "#El primer cuartil puede haber tantos meses como para alcanzar un cuartil superior. Cada cuartil tiene la misma cantidad de datos.\n",
        "#Estamos diciendo que si en junio y julio (Verano) tiene demanda increiblemente alta, estas obligando a que queden juntos\n",
        "#Los que tienen temporada alta con alta y baja con baja. Ahora si calculas la media de cada hora de cada dia, de cada cuartil.\n",
        "#Esto te dara el valor medio de salidas y entradas de cada hora.  y con la formula anterior, sabras cuantas bicis debes agregar o quitar.\n",
        "\n",
        "#En las estaciones con más demanda ver cuantas salidas tienen durante cada hora, por ejemplo de 8-9 hay 10 salidas\n",
        "#Ahora antes de que se llegue a esa hora se debe garantizar que se cubrira esa demanda, para lo que puedes,\n",
        "#LLevar bicis de una zona de baja demanda, a una zonda de alta demanda antes de las horas pico."
      ],
      "metadata": {
        "id": "0GLT8MRscl4u"
      },
      "execution_count": 38,
      "outputs": []
    },
    {
      "cell_type": "code",
      "source": [
        "#ds.start_station_name.unique()#No importa si es member o casual\n",
        "pd.pivot_table(ds.iloc[:4667226,:],values='member_casual',index=None,  \\\n",
        "               columns=['start_station_name'],aggfunc='count').transpose().sort_values('member_casual',ascending=False).head(5)"
      ],
      "metadata": {
        "id": "WdeTSlzse3gL",
        "colab": {
          "base_uri": "https://localhost:8080/",
          "height": 238
        },
        "outputId": "17a89af8-01c5-4691-e344-69ff45654062"
      },
      "execution_count": 39,
      "outputs": [
        {
          "output_type": "execute_result",
          "data": {
            "text/plain": [
              "                         member_casual\n",
              "start_station_name                    \n",
              "Streeter Dr & Grand Ave          80415\n",
              "Michigan Ave & Oak St            43793\n",
              "Wells St & Concord Ln            41389\n",
              "Clark St & Elm St                38889\n",
              "Millennium Park                  38888"
            ],
            "text/html": [
              "\n",
              "  <div id=\"df-457c25e3-fc1a-4ebe-a84e-b6479e91e627\">\n",
              "    <div class=\"colab-df-container\">\n",
              "      <div>\n",
              "<style scoped>\n",
              "    .dataframe tbody tr th:only-of-type {\n",
              "        vertical-align: middle;\n",
              "    }\n",
              "\n",
              "    .dataframe tbody tr th {\n",
              "        vertical-align: top;\n",
              "    }\n",
              "\n",
              "    .dataframe thead th {\n",
              "        text-align: right;\n",
              "    }\n",
              "</style>\n",
              "<table border=\"1\" class=\"dataframe\">\n",
              "  <thead>\n",
              "    <tr style=\"text-align: right;\">\n",
              "      <th></th>\n",
              "      <th>member_casual</th>\n",
              "    </tr>\n",
              "    <tr>\n",
              "      <th>start_station_name</th>\n",
              "      <th></th>\n",
              "    </tr>\n",
              "  </thead>\n",
              "  <tbody>\n",
              "    <tr>\n",
              "      <th>Streeter Dr &amp; Grand Ave</th>\n",
              "      <td>80415</td>\n",
              "    </tr>\n",
              "    <tr>\n",
              "      <th>Michigan Ave &amp; Oak St</th>\n",
              "      <td>43793</td>\n",
              "    </tr>\n",
              "    <tr>\n",
              "      <th>Wells St &amp; Concord Ln</th>\n",
              "      <td>41389</td>\n",
              "    </tr>\n",
              "    <tr>\n",
              "      <th>Clark St &amp; Elm St</th>\n",
              "      <td>38889</td>\n",
              "    </tr>\n",
              "    <tr>\n",
              "      <th>Millennium Park</th>\n",
              "      <td>38888</td>\n",
              "    </tr>\n",
              "  </tbody>\n",
              "</table>\n",
              "</div>\n",
              "      <button class=\"colab-df-convert\" onclick=\"convertToInteractive('df-457c25e3-fc1a-4ebe-a84e-b6479e91e627')\"\n",
              "              title=\"Convert this dataframe to an interactive table.\"\n",
              "              style=\"display:none;\">\n",
              "        \n",
              "  <svg xmlns=\"http://www.w3.org/2000/svg\" height=\"24px\"viewBox=\"0 0 24 24\"\n",
              "       width=\"24px\">\n",
              "    <path d=\"M0 0h24v24H0V0z\" fill=\"none\"/>\n",
              "    <path d=\"M18.56 5.44l.94 2.06.94-2.06 2.06-.94-2.06-.94-.94-2.06-.94 2.06-2.06.94zm-11 1L8.5 8.5l.94-2.06 2.06-.94-2.06-.94L8.5 2.5l-.94 2.06-2.06.94zm10 10l.94 2.06.94-2.06 2.06-.94-2.06-.94-.94-2.06-.94 2.06-2.06.94z\"/><path d=\"M17.41 7.96l-1.37-1.37c-.4-.4-.92-.59-1.43-.59-.52 0-1.04.2-1.43.59L10.3 9.45l-7.72 7.72c-.78.78-.78 2.05 0 2.83L4 21.41c.39.39.9.59 1.41.59.51 0 1.02-.2 1.41-.59l7.78-7.78 2.81-2.81c.8-.78.8-2.07 0-2.86zM5.41 20L4 18.59l7.72-7.72 1.47 1.35L5.41 20z\"/>\n",
              "  </svg>\n",
              "      </button>\n",
              "      \n",
              "  <style>\n",
              "    .colab-df-container {\n",
              "      display:flex;\n",
              "      flex-wrap:wrap;\n",
              "      gap: 12px;\n",
              "    }\n",
              "\n",
              "    .colab-df-convert {\n",
              "      background-color: #E8F0FE;\n",
              "      border: none;\n",
              "      border-radius: 50%;\n",
              "      cursor: pointer;\n",
              "      display: none;\n",
              "      fill: #1967D2;\n",
              "      height: 32px;\n",
              "      padding: 0 0 0 0;\n",
              "      width: 32px;\n",
              "    }\n",
              "\n",
              "    .colab-df-convert:hover {\n",
              "      background-color: #E2EBFA;\n",
              "      box-shadow: 0px 1px 2px rgba(60, 64, 67, 0.3), 0px 1px 3px 1px rgba(60, 64, 67, 0.15);\n",
              "      fill: #174EA6;\n",
              "    }\n",
              "\n",
              "    [theme=dark] .colab-df-convert {\n",
              "      background-color: #3B4455;\n",
              "      fill: #D2E3FC;\n",
              "    }\n",
              "\n",
              "    [theme=dark] .colab-df-convert:hover {\n",
              "      background-color: #434B5C;\n",
              "      box-shadow: 0px 1px 3px 1px rgba(0, 0, 0, 0.15);\n",
              "      filter: drop-shadow(0px 1px 2px rgba(0, 0, 0, 0.3));\n",
              "      fill: #FFFFFF;\n",
              "    }\n",
              "  </style>\n",
              "\n",
              "      <script>\n",
              "        const buttonEl =\n",
              "          document.querySelector('#df-457c25e3-fc1a-4ebe-a84e-b6479e91e627 button.colab-df-convert');\n",
              "        buttonEl.style.display =\n",
              "          google.colab.kernel.accessAllowed ? 'block' : 'none';\n",
              "\n",
              "        async function convertToInteractive(key) {\n",
              "          const element = document.querySelector('#df-457c25e3-fc1a-4ebe-a84e-b6479e91e627');\n",
              "          const dataTable =\n",
              "            await google.colab.kernel.invokeFunction('convertToInteractive',\n",
              "                                                     [key], {});\n",
              "          if (!dataTable) return;\n",
              "\n",
              "          const docLinkHtml = 'Like what you see? Visit the ' +\n",
              "            '<a target=\"_blank\" href=https://colab.research.google.com/notebooks/data_table.ipynb>data table notebook</a>'\n",
              "            + ' to learn more about interactive tables.';\n",
              "          element.innerHTML = '';\n",
              "          dataTable['output_type'] = 'display_data';\n",
              "          await google.colab.output.renderOutput(dataTable, element);\n",
              "          const docLink = document.createElement('div');\n",
              "          docLink.innerHTML = docLinkHtml;\n",
              "          element.appendChild(docLink);\n",
              "        }\n",
              "      </script>\n",
              "    </div>\n",
              "  </div>\n",
              "  "
            ]
          },
          "metadata": {},
          "execution_count": 39
        }
      ]
    },
    {
      "cell_type": "code",
      "source": [
        "#ds.start_station_name.unique()#No importa si es member o casual\n",
        "pd.pivot_table(ds.iloc[:4667226,:],values='member_casual',index=None,  \\\n",
        "               columns=['end_station_name'],aggfunc='count').transpose().sort_values('member_casual',ascending=False).head(5)"
      ],
      "metadata": {
        "colab": {
          "base_uri": "https://localhost:8080/",
          "height": 238
        },
        "id": "02hjZogfNfmG",
        "outputId": "73697c9e-9620-4d06-d521-9df323e2593d"
      },
      "execution_count": 40,
      "outputs": [
        {
          "output_type": "execute_result",
          "data": {
            "text/plain": [
              "                         member_casual\n",
              "end_station_name                      \n",
              "Streeter Dr & Grand Ave          83127\n",
              "Michigan Ave & Oak St            44629\n",
              "Wells St & Concord Ln            42042\n",
              "Millennium Park                  40377\n",
              "Clark St & Elm St                37768"
            ],
            "text/html": [
              "\n",
              "  <div id=\"df-19d85d01-6979-4c18-a33a-782cf2ce8630\">\n",
              "    <div class=\"colab-df-container\">\n",
              "      <div>\n",
              "<style scoped>\n",
              "    .dataframe tbody tr th:only-of-type {\n",
              "        vertical-align: middle;\n",
              "    }\n",
              "\n",
              "    .dataframe tbody tr th {\n",
              "        vertical-align: top;\n",
              "    }\n",
              "\n",
              "    .dataframe thead th {\n",
              "        text-align: right;\n",
              "    }\n",
              "</style>\n",
              "<table border=\"1\" class=\"dataframe\">\n",
              "  <thead>\n",
              "    <tr style=\"text-align: right;\">\n",
              "      <th></th>\n",
              "      <th>member_casual</th>\n",
              "    </tr>\n",
              "    <tr>\n",
              "      <th>end_station_name</th>\n",
              "      <th></th>\n",
              "    </tr>\n",
              "  </thead>\n",
              "  <tbody>\n",
              "    <tr>\n",
              "      <th>Streeter Dr &amp; Grand Ave</th>\n",
              "      <td>83127</td>\n",
              "    </tr>\n",
              "    <tr>\n",
              "      <th>Michigan Ave &amp; Oak St</th>\n",
              "      <td>44629</td>\n",
              "    </tr>\n",
              "    <tr>\n",
              "      <th>Wells St &amp; Concord Ln</th>\n",
              "      <td>42042</td>\n",
              "    </tr>\n",
              "    <tr>\n",
              "      <th>Millennium Park</th>\n",
              "      <td>40377</td>\n",
              "    </tr>\n",
              "    <tr>\n",
              "      <th>Clark St &amp; Elm St</th>\n",
              "      <td>37768</td>\n",
              "    </tr>\n",
              "  </tbody>\n",
              "</table>\n",
              "</div>\n",
              "      <button class=\"colab-df-convert\" onclick=\"convertToInteractive('df-19d85d01-6979-4c18-a33a-782cf2ce8630')\"\n",
              "              title=\"Convert this dataframe to an interactive table.\"\n",
              "              style=\"display:none;\">\n",
              "        \n",
              "  <svg xmlns=\"http://www.w3.org/2000/svg\" height=\"24px\"viewBox=\"0 0 24 24\"\n",
              "       width=\"24px\">\n",
              "    <path d=\"M0 0h24v24H0V0z\" fill=\"none\"/>\n",
              "    <path d=\"M18.56 5.44l.94 2.06.94-2.06 2.06-.94-2.06-.94-.94-2.06-.94 2.06-2.06.94zm-11 1L8.5 8.5l.94-2.06 2.06-.94-2.06-.94L8.5 2.5l-.94 2.06-2.06.94zm10 10l.94 2.06.94-2.06 2.06-.94-2.06-.94-.94-2.06-.94 2.06-2.06.94z\"/><path d=\"M17.41 7.96l-1.37-1.37c-.4-.4-.92-.59-1.43-.59-.52 0-1.04.2-1.43.59L10.3 9.45l-7.72 7.72c-.78.78-.78 2.05 0 2.83L4 21.41c.39.39.9.59 1.41.59.51 0 1.02-.2 1.41-.59l7.78-7.78 2.81-2.81c.8-.78.8-2.07 0-2.86zM5.41 20L4 18.59l7.72-7.72 1.47 1.35L5.41 20z\"/>\n",
              "  </svg>\n",
              "      </button>\n",
              "      \n",
              "  <style>\n",
              "    .colab-df-container {\n",
              "      display:flex;\n",
              "      flex-wrap:wrap;\n",
              "      gap: 12px;\n",
              "    }\n",
              "\n",
              "    .colab-df-convert {\n",
              "      background-color: #E8F0FE;\n",
              "      border: none;\n",
              "      border-radius: 50%;\n",
              "      cursor: pointer;\n",
              "      display: none;\n",
              "      fill: #1967D2;\n",
              "      height: 32px;\n",
              "      padding: 0 0 0 0;\n",
              "      width: 32px;\n",
              "    }\n",
              "\n",
              "    .colab-df-convert:hover {\n",
              "      background-color: #E2EBFA;\n",
              "      box-shadow: 0px 1px 2px rgba(60, 64, 67, 0.3), 0px 1px 3px 1px rgba(60, 64, 67, 0.15);\n",
              "      fill: #174EA6;\n",
              "    }\n",
              "\n",
              "    [theme=dark] .colab-df-convert {\n",
              "      background-color: #3B4455;\n",
              "      fill: #D2E3FC;\n",
              "    }\n",
              "\n",
              "    [theme=dark] .colab-df-convert:hover {\n",
              "      background-color: #434B5C;\n",
              "      box-shadow: 0px 1px 3px 1px rgba(0, 0, 0, 0.15);\n",
              "      filter: drop-shadow(0px 1px 2px rgba(0, 0, 0, 0.3));\n",
              "      fill: #FFFFFF;\n",
              "    }\n",
              "  </style>\n",
              "\n",
              "      <script>\n",
              "        const buttonEl =\n",
              "          document.querySelector('#df-19d85d01-6979-4c18-a33a-782cf2ce8630 button.colab-df-convert');\n",
              "        buttonEl.style.display =\n",
              "          google.colab.kernel.accessAllowed ? 'block' : 'none';\n",
              "\n",
              "        async function convertToInteractive(key) {\n",
              "          const element = document.querySelector('#df-19d85d01-6979-4c18-a33a-782cf2ce8630');\n",
              "          const dataTable =\n",
              "            await google.colab.kernel.invokeFunction('convertToInteractive',\n",
              "                                                     [key], {});\n",
              "          if (!dataTable) return;\n",
              "\n",
              "          const docLinkHtml = 'Like what you see? Visit the ' +\n",
              "            '<a target=\"_blank\" href=https://colab.research.google.com/notebooks/data_table.ipynb>data table notebook</a>'\n",
              "            + ' to learn more about interactive tables.';\n",
              "          element.innerHTML = '';\n",
              "          dataTable['output_type'] = 'display_data';\n",
              "          await google.colab.output.renderOutput(dataTable, element);\n",
              "          const docLink = document.createElement('div');\n",
              "          docLink.innerHTML = docLinkHtml;\n",
              "          element.appendChild(docLink);\n",
              "        }\n",
              "      </script>\n",
              "    </div>\n",
              "  </div>\n",
              "  "
            ]
          },
          "metadata": {},
          "execution_count": 40
        }
      ]
    },
    {
      "cell_type": "code",
      "source": [
        "pd.pivot_table(ds.loc[  (ds.start_station_name=='Streeter Dr & Grand Ave') & (ds.month==7) ,\\\n",
        "                      ['rideable_type','member_casual','diff_time','hour','day','id'] ],\\\n",
        "              values=['id'],index=['day'],columns=['hour'],aggfunc='count',fill_value=0)\n",
        "#No de bicicletas necesitadas para julio segun la hora y el día de la semana en la estacion streeter Dr 6 Grand Ave\n",
        "#Puedes traer más datos de otros años y calcular la demanda del siguiente año \n",
        "#Si tienes suerte será una tendencia lineal y podras pronosticarla con regresion lineal \n",
        "#Aún debes saber que porcentaje de estas le pertenece a bici normal, elecctrica y otra. \n",
        "#Lo que haría es ver el porcentaje global es decir cuantas bicis si el 60% fue normal\n",
        "#30% electrica y 10% otra entonces multiplicaria eso por el numero para saber cuanto de \n",
        "#CAda uno necesito.  \n",
        "\n",
        "#En zonas poco transitadas promover los viajes dando viajes gratis o al minimo costo, Tambien\n",
        "#En horas pico promover viajes grátis de lugares con poca demanda a lugares con mucha demanda\n",
        "\n",
        "#Vamos a hacer un kmeans para 1 para datos que son memebers y otro para casual\n",
        "#Una ves identificando las medias de cada cluster, podemos aplicar k-neigrest neigborhs\n",
        "#para identificar los que son, los posibles y los que no son miembros\n",
        "#Esto nos puede decir a quien darle propuestas, si bien no tenemos un identificador personal\n",
        "#Podemos aplicar esto sobre alguna tendencia en estaciones, por ejemplo si los members Van de una estacion a otra\n",
        "#Y ciclistas que ocupan la misma ruta, podrían ser potencialmente miembros si no lo son"
      ],
      "metadata": {
        "colab": {
          "base_uri": "https://localhost:8080/",
          "height": 361
        },
        "id": "zQtWWDZ0OH4v",
        "outputId": "b1c4836f-a245-4192-d04e-56c1aff781ec"
      },
      "execution_count": 41,
      "outputs": [
        {
          "output_type": "execute_result",
          "data": {
            "text/plain": [
              "      id                                     ...                           \\\n",
              "hour  0   1   2   3  4  5   6   7   8    9   ...   14   15   16   17   18   \n",
              "day                                          ...                            \n",
              "0     16   5   7   1  0  6  14  43  59   61  ...  391  354  360  333  338   \n",
              "1      8   7   4   0  0  1  19  57  60   50  ...  274  290  270  321  330   \n",
              "2      0   5   3   0  2  7  18  58  37   43  ...  238  290  219  318  286   \n",
              "3     14   9   2   1  0  1  22  28  39   38  ...  307  277  341  324  295   \n",
              "4      8   7   3   4  0  1  23  48  76   58  ...  396  359  443  381  363   \n",
              "5     36  15  10   5  0  7  22  29  83  198  ...  765  969  767  555  538   \n",
              "6     56  30   8  11  4  6  17  29  64  116  ...  539  555  517  523  463   \n",
              "\n",
              "                               \n",
              "hour   19   20   21   22   23  \n",
              "day                            \n",
              "0     296  257  190   58   16  \n",
              "1     256  211   74   43   14  \n",
              "2     243  206  252  101   25  \n",
              "3     262  146  133   60   22  \n",
              "4     304  230  169  126   76  \n",
              "5     463  352  327  381  121  \n",
              "6     412  356  270  102   39  \n",
              "\n",
              "[7 rows x 24 columns]"
            ],
            "text/html": [
              "\n",
              "  <div id=\"df-056d6b0d-6f8b-4bf2-8b9c-f04c75e065a1\">\n",
              "    <div class=\"colab-df-container\">\n",
              "      <div>\n",
              "<style scoped>\n",
              "    .dataframe tbody tr th:only-of-type {\n",
              "        vertical-align: middle;\n",
              "    }\n",
              "\n",
              "    .dataframe tbody tr th {\n",
              "        vertical-align: top;\n",
              "    }\n",
              "\n",
              "    .dataframe thead tr th {\n",
              "        text-align: left;\n",
              "    }\n",
              "\n",
              "    .dataframe thead tr:last-of-type th {\n",
              "        text-align: right;\n",
              "    }\n",
              "</style>\n",
              "<table border=\"1\" class=\"dataframe\">\n",
              "  <thead>\n",
              "    <tr>\n",
              "      <th></th>\n",
              "      <th colspan=\"21\" halign=\"left\">id</th>\n",
              "    </tr>\n",
              "    <tr>\n",
              "      <th>hour</th>\n",
              "      <th>0</th>\n",
              "      <th>1</th>\n",
              "      <th>2</th>\n",
              "      <th>3</th>\n",
              "      <th>4</th>\n",
              "      <th>5</th>\n",
              "      <th>6</th>\n",
              "      <th>7</th>\n",
              "      <th>8</th>\n",
              "      <th>9</th>\n",
              "      <th>...</th>\n",
              "      <th>14</th>\n",
              "      <th>15</th>\n",
              "      <th>16</th>\n",
              "      <th>17</th>\n",
              "      <th>18</th>\n",
              "      <th>19</th>\n",
              "      <th>20</th>\n",
              "      <th>21</th>\n",
              "      <th>22</th>\n",
              "      <th>23</th>\n",
              "    </tr>\n",
              "    <tr>\n",
              "      <th>day</th>\n",
              "      <th></th>\n",
              "      <th></th>\n",
              "      <th></th>\n",
              "      <th></th>\n",
              "      <th></th>\n",
              "      <th></th>\n",
              "      <th></th>\n",
              "      <th></th>\n",
              "      <th></th>\n",
              "      <th></th>\n",
              "      <th></th>\n",
              "      <th></th>\n",
              "      <th></th>\n",
              "      <th></th>\n",
              "      <th></th>\n",
              "      <th></th>\n",
              "      <th></th>\n",
              "      <th></th>\n",
              "      <th></th>\n",
              "      <th></th>\n",
              "      <th></th>\n",
              "    </tr>\n",
              "  </thead>\n",
              "  <tbody>\n",
              "    <tr>\n",
              "      <th>0</th>\n",
              "      <td>16</td>\n",
              "      <td>5</td>\n",
              "      <td>7</td>\n",
              "      <td>1</td>\n",
              "      <td>0</td>\n",
              "      <td>6</td>\n",
              "      <td>14</td>\n",
              "      <td>43</td>\n",
              "      <td>59</td>\n",
              "      <td>61</td>\n",
              "      <td>...</td>\n",
              "      <td>391</td>\n",
              "      <td>354</td>\n",
              "      <td>360</td>\n",
              "      <td>333</td>\n",
              "      <td>338</td>\n",
              "      <td>296</td>\n",
              "      <td>257</td>\n",
              "      <td>190</td>\n",
              "      <td>58</td>\n",
              "      <td>16</td>\n",
              "    </tr>\n",
              "    <tr>\n",
              "      <th>1</th>\n",
              "      <td>8</td>\n",
              "      <td>7</td>\n",
              "      <td>4</td>\n",
              "      <td>0</td>\n",
              "      <td>0</td>\n",
              "      <td>1</td>\n",
              "      <td>19</td>\n",
              "      <td>57</td>\n",
              "      <td>60</td>\n",
              "      <td>50</td>\n",
              "      <td>...</td>\n",
              "      <td>274</td>\n",
              "      <td>290</td>\n",
              "      <td>270</td>\n",
              "      <td>321</td>\n",
              "      <td>330</td>\n",
              "      <td>256</td>\n",
              "      <td>211</td>\n",
              "      <td>74</td>\n",
              "      <td>43</td>\n",
              "      <td>14</td>\n",
              "    </tr>\n",
              "    <tr>\n",
              "      <th>2</th>\n",
              "      <td>0</td>\n",
              "      <td>5</td>\n",
              "      <td>3</td>\n",
              "      <td>0</td>\n",
              "      <td>2</td>\n",
              "      <td>7</td>\n",
              "      <td>18</td>\n",
              "      <td>58</td>\n",
              "      <td>37</td>\n",
              "      <td>43</td>\n",
              "      <td>...</td>\n",
              "      <td>238</td>\n",
              "      <td>290</td>\n",
              "      <td>219</td>\n",
              "      <td>318</td>\n",
              "      <td>286</td>\n",
              "      <td>243</td>\n",
              "      <td>206</td>\n",
              "      <td>252</td>\n",
              "      <td>101</td>\n",
              "      <td>25</td>\n",
              "    </tr>\n",
              "    <tr>\n",
              "      <th>3</th>\n",
              "      <td>14</td>\n",
              "      <td>9</td>\n",
              "      <td>2</td>\n",
              "      <td>1</td>\n",
              "      <td>0</td>\n",
              "      <td>1</td>\n",
              "      <td>22</td>\n",
              "      <td>28</td>\n",
              "      <td>39</td>\n",
              "      <td>38</td>\n",
              "      <td>...</td>\n",
              "      <td>307</td>\n",
              "      <td>277</td>\n",
              "      <td>341</td>\n",
              "      <td>324</td>\n",
              "      <td>295</td>\n",
              "      <td>262</td>\n",
              "      <td>146</td>\n",
              "      <td>133</td>\n",
              "      <td>60</td>\n",
              "      <td>22</td>\n",
              "    </tr>\n",
              "    <tr>\n",
              "      <th>4</th>\n",
              "      <td>8</td>\n",
              "      <td>7</td>\n",
              "      <td>3</td>\n",
              "      <td>4</td>\n",
              "      <td>0</td>\n",
              "      <td>1</td>\n",
              "      <td>23</td>\n",
              "      <td>48</td>\n",
              "      <td>76</td>\n",
              "      <td>58</td>\n",
              "      <td>...</td>\n",
              "      <td>396</td>\n",
              "      <td>359</td>\n",
              "      <td>443</td>\n",
              "      <td>381</td>\n",
              "      <td>363</td>\n",
              "      <td>304</td>\n",
              "      <td>230</td>\n",
              "      <td>169</td>\n",
              "      <td>126</td>\n",
              "      <td>76</td>\n",
              "    </tr>\n",
              "    <tr>\n",
              "      <th>5</th>\n",
              "      <td>36</td>\n",
              "      <td>15</td>\n",
              "      <td>10</td>\n",
              "      <td>5</td>\n",
              "      <td>0</td>\n",
              "      <td>7</td>\n",
              "      <td>22</td>\n",
              "      <td>29</td>\n",
              "      <td>83</td>\n",
              "      <td>198</td>\n",
              "      <td>...</td>\n",
              "      <td>765</td>\n",
              "      <td>969</td>\n",
              "      <td>767</td>\n",
              "      <td>555</td>\n",
              "      <td>538</td>\n",
              "      <td>463</td>\n",
              "      <td>352</td>\n",
              "      <td>327</td>\n",
              "      <td>381</td>\n",
              "      <td>121</td>\n",
              "    </tr>\n",
              "    <tr>\n",
              "      <th>6</th>\n",
              "      <td>56</td>\n",
              "      <td>30</td>\n",
              "      <td>8</td>\n",
              "      <td>11</td>\n",
              "      <td>4</td>\n",
              "      <td>6</td>\n",
              "      <td>17</td>\n",
              "      <td>29</td>\n",
              "      <td>64</td>\n",
              "      <td>116</td>\n",
              "      <td>...</td>\n",
              "      <td>539</td>\n",
              "      <td>555</td>\n",
              "      <td>517</td>\n",
              "      <td>523</td>\n",
              "      <td>463</td>\n",
              "      <td>412</td>\n",
              "      <td>356</td>\n",
              "      <td>270</td>\n",
              "      <td>102</td>\n",
              "      <td>39</td>\n",
              "    </tr>\n",
              "  </tbody>\n",
              "</table>\n",
              "<p>7 rows × 24 columns</p>\n",
              "</div>\n",
              "      <button class=\"colab-df-convert\" onclick=\"convertToInteractive('df-056d6b0d-6f8b-4bf2-8b9c-f04c75e065a1')\"\n",
              "              title=\"Convert this dataframe to an interactive table.\"\n",
              "              style=\"display:none;\">\n",
              "        \n",
              "  <svg xmlns=\"http://www.w3.org/2000/svg\" height=\"24px\"viewBox=\"0 0 24 24\"\n",
              "       width=\"24px\">\n",
              "    <path d=\"M0 0h24v24H0V0z\" fill=\"none\"/>\n",
              "    <path d=\"M18.56 5.44l.94 2.06.94-2.06 2.06-.94-2.06-.94-.94-2.06-.94 2.06-2.06.94zm-11 1L8.5 8.5l.94-2.06 2.06-.94-2.06-.94L8.5 2.5l-.94 2.06-2.06.94zm10 10l.94 2.06.94-2.06 2.06-.94-2.06-.94-.94-2.06-.94 2.06-2.06.94z\"/><path d=\"M17.41 7.96l-1.37-1.37c-.4-.4-.92-.59-1.43-.59-.52 0-1.04.2-1.43.59L10.3 9.45l-7.72 7.72c-.78.78-.78 2.05 0 2.83L4 21.41c.39.39.9.59 1.41.59.51 0 1.02-.2 1.41-.59l7.78-7.78 2.81-2.81c.8-.78.8-2.07 0-2.86zM5.41 20L4 18.59l7.72-7.72 1.47 1.35L5.41 20z\"/>\n",
              "  </svg>\n",
              "      </button>\n",
              "      \n",
              "  <style>\n",
              "    .colab-df-container {\n",
              "      display:flex;\n",
              "      flex-wrap:wrap;\n",
              "      gap: 12px;\n",
              "    }\n",
              "\n",
              "    .colab-df-convert {\n",
              "      background-color: #E8F0FE;\n",
              "      border: none;\n",
              "      border-radius: 50%;\n",
              "      cursor: pointer;\n",
              "      display: none;\n",
              "      fill: #1967D2;\n",
              "      height: 32px;\n",
              "      padding: 0 0 0 0;\n",
              "      width: 32px;\n",
              "    }\n",
              "\n",
              "    .colab-df-convert:hover {\n",
              "      background-color: #E2EBFA;\n",
              "      box-shadow: 0px 1px 2px rgba(60, 64, 67, 0.3), 0px 1px 3px 1px rgba(60, 64, 67, 0.15);\n",
              "      fill: #174EA6;\n",
              "    }\n",
              "\n",
              "    [theme=dark] .colab-df-convert {\n",
              "      background-color: #3B4455;\n",
              "      fill: #D2E3FC;\n",
              "    }\n",
              "\n",
              "    [theme=dark] .colab-df-convert:hover {\n",
              "      background-color: #434B5C;\n",
              "      box-shadow: 0px 1px 3px 1px rgba(0, 0, 0, 0.15);\n",
              "      filter: drop-shadow(0px 1px 2px rgba(0, 0, 0, 0.3));\n",
              "      fill: #FFFFFF;\n",
              "    }\n",
              "  </style>\n",
              "\n",
              "      <script>\n",
              "        const buttonEl =\n",
              "          document.querySelector('#df-056d6b0d-6f8b-4bf2-8b9c-f04c75e065a1 button.colab-df-convert');\n",
              "        buttonEl.style.display =\n",
              "          google.colab.kernel.accessAllowed ? 'block' : 'none';\n",
              "\n",
              "        async function convertToInteractive(key) {\n",
              "          const element = document.querySelector('#df-056d6b0d-6f8b-4bf2-8b9c-f04c75e065a1');\n",
              "          const dataTable =\n",
              "            await google.colab.kernel.invokeFunction('convertToInteractive',\n",
              "                                                     [key], {});\n",
              "          if (!dataTable) return;\n",
              "\n",
              "          const docLinkHtml = 'Like what you see? Visit the ' +\n",
              "            '<a target=\"_blank\" href=https://colab.research.google.com/notebooks/data_table.ipynb>data table notebook</a>'\n",
              "            + ' to learn more about interactive tables.';\n",
              "          element.innerHTML = '';\n",
              "          dataTable['output_type'] = 'display_data';\n",
              "          await google.colab.output.renderOutput(dataTable, element);\n",
              "          const docLink = document.createElement('div');\n",
              "          docLink.innerHTML = docLinkHtml;\n",
              "          element.appendChild(docLink);\n",
              "        }\n",
              "      </script>\n",
              "    </div>\n",
              "  </div>\n",
              "  "
            ]
          },
          "metadata": {},
          "execution_count": 41
        }
      ]
    },
    {
      "cell_type": "code",
      "source": [
        "ds.loc[  (ds.start_station_name=='Streeter Dr & Grand Ave') & (ds.month==7) & (ds.day==6),\\\n",
        "                      ['rideable_type','member_casual','diff_time','hour','day','id','started_at','day_of_month'] ].day_of_month.unique()"
      ],
      "metadata": {
        "colab": {
          "base_uri": "https://localhost:8080/"
        },
        "id": "d5YctUK8Nhsn",
        "outputId": "0dde9363-5251-493e-a8b6-6596cc434707"
      },
      "execution_count": 42,
      "outputs": [
        {
          "output_type": "execute_result",
          "data": {
            "text/plain": [
              "array([ 4, 18, 11, 25, 10,  3, 31, 17, 24])"
            ]
          },
          "metadata": {},
          "execution_count": 42
        }
      ]
    },
    {
      "cell_type": "code",
      "source": [
        "dff=pd.DataFrame({'col1':['m','m','c','c','z','m'],'col2':['1','1','1','2','2','3']})\n",
        "dff"
      ],
      "metadata": {
        "colab": {
          "base_uri": "https://localhost:8080/",
          "height": 238
        },
        "id": "j8of0S4nKZAM",
        "outputId": "deca35d4-248a-4ba6-cbf7-cf5a974389ae"
      },
      "execution_count": 43,
      "outputs": [
        {
          "output_type": "execute_result",
          "data": {
            "text/plain": [
              "  col1 col2\n",
              "0    m    1\n",
              "1    m    1\n",
              "2    c    1\n",
              "3    c    2\n",
              "4    z    2\n",
              "5    m    3"
            ],
            "text/html": [
              "\n",
              "  <div id=\"df-802d118c-4208-4a8e-bec9-121464eec3f3\">\n",
              "    <div class=\"colab-df-container\">\n",
              "      <div>\n",
              "<style scoped>\n",
              "    .dataframe tbody tr th:only-of-type {\n",
              "        vertical-align: middle;\n",
              "    }\n",
              "\n",
              "    .dataframe tbody tr th {\n",
              "        vertical-align: top;\n",
              "    }\n",
              "\n",
              "    .dataframe thead th {\n",
              "        text-align: right;\n",
              "    }\n",
              "</style>\n",
              "<table border=\"1\" class=\"dataframe\">\n",
              "  <thead>\n",
              "    <tr style=\"text-align: right;\">\n",
              "      <th></th>\n",
              "      <th>col1</th>\n",
              "      <th>col2</th>\n",
              "    </tr>\n",
              "  </thead>\n",
              "  <tbody>\n",
              "    <tr>\n",
              "      <th>0</th>\n",
              "      <td>m</td>\n",
              "      <td>1</td>\n",
              "    </tr>\n",
              "    <tr>\n",
              "      <th>1</th>\n",
              "      <td>m</td>\n",
              "      <td>1</td>\n",
              "    </tr>\n",
              "    <tr>\n",
              "      <th>2</th>\n",
              "      <td>c</td>\n",
              "      <td>1</td>\n",
              "    </tr>\n",
              "    <tr>\n",
              "      <th>3</th>\n",
              "      <td>c</td>\n",
              "      <td>2</td>\n",
              "    </tr>\n",
              "    <tr>\n",
              "      <th>4</th>\n",
              "      <td>z</td>\n",
              "      <td>2</td>\n",
              "    </tr>\n",
              "    <tr>\n",
              "      <th>5</th>\n",
              "      <td>m</td>\n",
              "      <td>3</td>\n",
              "    </tr>\n",
              "  </tbody>\n",
              "</table>\n",
              "</div>\n",
              "      <button class=\"colab-df-convert\" onclick=\"convertToInteractive('df-802d118c-4208-4a8e-bec9-121464eec3f3')\"\n",
              "              title=\"Convert this dataframe to an interactive table.\"\n",
              "              style=\"display:none;\">\n",
              "        \n",
              "  <svg xmlns=\"http://www.w3.org/2000/svg\" height=\"24px\"viewBox=\"0 0 24 24\"\n",
              "       width=\"24px\">\n",
              "    <path d=\"M0 0h24v24H0V0z\" fill=\"none\"/>\n",
              "    <path d=\"M18.56 5.44l.94 2.06.94-2.06 2.06-.94-2.06-.94-.94-2.06-.94 2.06-2.06.94zm-11 1L8.5 8.5l.94-2.06 2.06-.94-2.06-.94L8.5 2.5l-.94 2.06-2.06.94zm10 10l.94 2.06.94-2.06 2.06-.94-2.06-.94-.94-2.06-.94 2.06-2.06.94z\"/><path d=\"M17.41 7.96l-1.37-1.37c-.4-.4-.92-.59-1.43-.59-.52 0-1.04.2-1.43.59L10.3 9.45l-7.72 7.72c-.78.78-.78 2.05 0 2.83L4 21.41c.39.39.9.59 1.41.59.51 0 1.02-.2 1.41-.59l7.78-7.78 2.81-2.81c.8-.78.8-2.07 0-2.86zM5.41 20L4 18.59l7.72-7.72 1.47 1.35L5.41 20z\"/>\n",
              "  </svg>\n",
              "      </button>\n",
              "      \n",
              "  <style>\n",
              "    .colab-df-container {\n",
              "      display:flex;\n",
              "      flex-wrap:wrap;\n",
              "      gap: 12px;\n",
              "    }\n",
              "\n",
              "    .colab-df-convert {\n",
              "      background-color: #E8F0FE;\n",
              "      border: none;\n",
              "      border-radius: 50%;\n",
              "      cursor: pointer;\n",
              "      display: none;\n",
              "      fill: #1967D2;\n",
              "      height: 32px;\n",
              "      padding: 0 0 0 0;\n",
              "      width: 32px;\n",
              "    }\n",
              "\n",
              "    .colab-df-convert:hover {\n",
              "      background-color: #E2EBFA;\n",
              "      box-shadow: 0px 1px 2px rgba(60, 64, 67, 0.3), 0px 1px 3px 1px rgba(60, 64, 67, 0.15);\n",
              "      fill: #174EA6;\n",
              "    }\n",
              "\n",
              "    [theme=dark] .colab-df-convert {\n",
              "      background-color: #3B4455;\n",
              "      fill: #D2E3FC;\n",
              "    }\n",
              "\n",
              "    [theme=dark] .colab-df-convert:hover {\n",
              "      background-color: #434B5C;\n",
              "      box-shadow: 0px 1px 3px 1px rgba(0, 0, 0, 0.15);\n",
              "      filter: drop-shadow(0px 1px 2px rgba(0, 0, 0, 0.3));\n",
              "      fill: #FFFFFF;\n",
              "    }\n",
              "  </style>\n",
              "\n",
              "      <script>\n",
              "        const buttonEl =\n",
              "          document.querySelector('#df-802d118c-4208-4a8e-bec9-121464eec3f3 button.colab-df-convert');\n",
              "        buttonEl.style.display =\n",
              "          google.colab.kernel.accessAllowed ? 'block' : 'none';\n",
              "\n",
              "        async function convertToInteractive(key) {\n",
              "          const element = document.querySelector('#df-802d118c-4208-4a8e-bec9-121464eec3f3');\n",
              "          const dataTable =\n",
              "            await google.colab.kernel.invokeFunction('convertToInteractive',\n",
              "                                                     [key], {});\n",
              "          if (!dataTable) return;\n",
              "\n",
              "          const docLinkHtml = 'Like what you see? Visit the ' +\n",
              "            '<a target=\"_blank\" href=https://colab.research.google.com/notebooks/data_table.ipynb>data table notebook</a>'\n",
              "            + ' to learn more about interactive tables.';\n",
              "          element.innerHTML = '';\n",
              "          dataTable['output_type'] = 'display_data';\n",
              "          await google.colab.output.renderOutput(dataTable, element);\n",
              "          const docLink = document.createElement('div');\n",
              "          docLink.innerHTML = docLinkHtml;\n",
              "          element.appendChild(docLink);\n",
              "        }\n",
              "      </script>\n",
              "    </div>\n",
              "  </div>\n",
              "  "
            ]
          },
          "metadata": {},
          "execution_count": 43
        }
      ]
    },
    {
      "cell_type": "code",
      "source": [
        "#ds.start_station_name.unique()\n",
        "pd.pivot_table(dff.iloc[:,:],values='col1',index=None,  \\\n",
        "               columns=['col2'],aggfunc='count')#.transpose().sort_values('member_casual',ascending=False)"
      ],
      "metadata": {
        "colab": {
          "base_uri": "https://localhost:8080/",
          "height": 81
        },
        "id": "msTIhWB2KA8g",
        "outputId": "46218f2b-d60f-4006-d6eb-c24ef4038011"
      },
      "execution_count": 44,
      "outputs": [
        {
          "output_type": "execute_result",
          "data": {
            "text/plain": [
              "col2  1  2  3\n",
              "col1  3  2  1"
            ],
            "text/html": [
              "\n",
              "  <div id=\"df-e1090e0f-0fed-4322-8c9e-647d62f3e79f\">\n",
              "    <div class=\"colab-df-container\">\n",
              "      <div>\n",
              "<style scoped>\n",
              "    .dataframe tbody tr th:only-of-type {\n",
              "        vertical-align: middle;\n",
              "    }\n",
              "\n",
              "    .dataframe tbody tr th {\n",
              "        vertical-align: top;\n",
              "    }\n",
              "\n",
              "    .dataframe thead th {\n",
              "        text-align: right;\n",
              "    }\n",
              "</style>\n",
              "<table border=\"1\" class=\"dataframe\">\n",
              "  <thead>\n",
              "    <tr style=\"text-align: right;\">\n",
              "      <th>col2</th>\n",
              "      <th>1</th>\n",
              "      <th>2</th>\n",
              "      <th>3</th>\n",
              "    </tr>\n",
              "  </thead>\n",
              "  <tbody>\n",
              "    <tr>\n",
              "      <th>col1</th>\n",
              "      <td>3</td>\n",
              "      <td>2</td>\n",
              "      <td>1</td>\n",
              "    </tr>\n",
              "  </tbody>\n",
              "</table>\n",
              "</div>\n",
              "      <button class=\"colab-df-convert\" onclick=\"convertToInteractive('df-e1090e0f-0fed-4322-8c9e-647d62f3e79f')\"\n",
              "              title=\"Convert this dataframe to an interactive table.\"\n",
              "              style=\"display:none;\">\n",
              "        \n",
              "  <svg xmlns=\"http://www.w3.org/2000/svg\" height=\"24px\"viewBox=\"0 0 24 24\"\n",
              "       width=\"24px\">\n",
              "    <path d=\"M0 0h24v24H0V0z\" fill=\"none\"/>\n",
              "    <path d=\"M18.56 5.44l.94 2.06.94-2.06 2.06-.94-2.06-.94-.94-2.06-.94 2.06-2.06.94zm-11 1L8.5 8.5l.94-2.06 2.06-.94-2.06-.94L8.5 2.5l-.94 2.06-2.06.94zm10 10l.94 2.06.94-2.06 2.06-.94-2.06-.94-.94-2.06-.94 2.06-2.06.94z\"/><path d=\"M17.41 7.96l-1.37-1.37c-.4-.4-.92-.59-1.43-.59-.52 0-1.04.2-1.43.59L10.3 9.45l-7.72 7.72c-.78.78-.78 2.05 0 2.83L4 21.41c.39.39.9.59 1.41.59.51 0 1.02-.2 1.41-.59l7.78-7.78 2.81-2.81c.8-.78.8-2.07 0-2.86zM5.41 20L4 18.59l7.72-7.72 1.47 1.35L5.41 20z\"/>\n",
              "  </svg>\n",
              "      </button>\n",
              "      \n",
              "  <style>\n",
              "    .colab-df-container {\n",
              "      display:flex;\n",
              "      flex-wrap:wrap;\n",
              "      gap: 12px;\n",
              "    }\n",
              "\n",
              "    .colab-df-convert {\n",
              "      background-color: #E8F0FE;\n",
              "      border: none;\n",
              "      border-radius: 50%;\n",
              "      cursor: pointer;\n",
              "      display: none;\n",
              "      fill: #1967D2;\n",
              "      height: 32px;\n",
              "      padding: 0 0 0 0;\n",
              "      width: 32px;\n",
              "    }\n",
              "\n",
              "    .colab-df-convert:hover {\n",
              "      background-color: #E2EBFA;\n",
              "      box-shadow: 0px 1px 2px rgba(60, 64, 67, 0.3), 0px 1px 3px 1px rgba(60, 64, 67, 0.15);\n",
              "      fill: #174EA6;\n",
              "    }\n",
              "\n",
              "    [theme=dark] .colab-df-convert {\n",
              "      background-color: #3B4455;\n",
              "      fill: #D2E3FC;\n",
              "    }\n",
              "\n",
              "    [theme=dark] .colab-df-convert:hover {\n",
              "      background-color: #434B5C;\n",
              "      box-shadow: 0px 1px 3px 1px rgba(0, 0, 0, 0.15);\n",
              "      filter: drop-shadow(0px 1px 2px rgba(0, 0, 0, 0.3));\n",
              "      fill: #FFFFFF;\n",
              "    }\n",
              "  </style>\n",
              "\n",
              "      <script>\n",
              "        const buttonEl =\n",
              "          document.querySelector('#df-e1090e0f-0fed-4322-8c9e-647d62f3e79f button.colab-df-convert');\n",
              "        buttonEl.style.display =\n",
              "          google.colab.kernel.accessAllowed ? 'block' : 'none';\n",
              "\n",
              "        async function convertToInteractive(key) {\n",
              "          const element = document.querySelector('#df-e1090e0f-0fed-4322-8c9e-647d62f3e79f');\n",
              "          const dataTable =\n",
              "            await google.colab.kernel.invokeFunction('convertToInteractive',\n",
              "                                                     [key], {});\n",
              "          if (!dataTable) return;\n",
              "\n",
              "          const docLinkHtml = 'Like what you see? Visit the ' +\n",
              "            '<a target=\"_blank\" href=https://colab.research.google.com/notebooks/data_table.ipynb>data table notebook</a>'\n",
              "            + ' to learn more about interactive tables.';\n",
              "          element.innerHTML = '';\n",
              "          dataTable['output_type'] = 'display_data';\n",
              "          await google.colab.output.renderOutput(dataTable, element);\n",
              "          const docLink = document.createElement('div');\n",
              "          docLink.innerHTML = docLinkHtml;\n",
              "          element.appendChild(docLink);\n",
              "        }\n",
              "      </script>\n",
              "    </div>\n",
              "  </div>\n",
              "  "
            ]
          },
          "metadata": {},
          "execution_count": 44
        }
      ]
    }
  ]
}